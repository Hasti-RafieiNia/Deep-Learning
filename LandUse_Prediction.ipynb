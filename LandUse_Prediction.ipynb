{
 "cells": [
  {
   "cell_type": "markdown",
   "id": "eb8a22af",
   "metadata": {},
   "source": [
    "*Importing libraries*"
   ]
  },
  {
   "cell_type": "code",
   "execution_count": 1,
   "id": "1e31d8a6-91ad-4d78-adef-9fd89274fa30",
   "metadata": {},
   "outputs": [],
   "source": [
    "import warnings\n",
    "warnings.filterwarnings('ignore')"
   ]
  },
  {
   "cell_type": "code",
   "execution_count": 45,
   "id": "0e969230-51c6-4d4a-9616-fdcdf2a4921b",
   "metadata": {},
   "outputs": [],
   "source": [
    "import os\n",
    "import random\n",
    "import shutil\n",
    "import numpy as np\n",
    "import pandas as pd\n",
    "import seaborn as sb\n",
    "from PIL import Image\n",
    "from osgeo import gdal\n",
    "import tensorflow as tf\n",
    "from tensorflow import keras\n",
    "import matplotlib.pyplot as plt\n",
    "from matplotlib.lines import Line2D\n",
    "from sklearn.metrics import f1_score\n",
    "from scipy.interpolate import interpn\n",
    "from skimage.util import view_as_windows\n",
    "from tensorflow.keras.layers import Dense \n",
    "from tensorflow.keras.models import Model\n",
    "from tensorflow.keras import regularizers\n",
    "from tensorflow.keras import backend as K \n",
    "from tensorflow.keras.layers import Conv2D  \n",
    "from tensorflow.keras.models import load_model\n",
    "from tensorflow.keras.layers import MaxPooling2D \n",
    "from tensorflow.keras.layers import TimeDistributed\n",
    "from tensorflow.keras.layers import Flatten, Reshape\n",
    "from tensorflow.keras.metrics import Precision, Recall\n",
    "from tensorflow.keras.layers import concatenate, Input\n",
    "from tensorflow.keras.layers import BatchNormalization\n",
    "from tensorflow.keras.layers import SimpleRNN, LSTM, GRU, Dropout\n",
    "from tensorflow.keras.callbacks import EarlyStopping, ModelCheckpoint"
   ]
  },
  {
   "cell_type": "markdown",
   "id": "7bb2cb68-7f5a-450d-879b-6d91cab634c1",
   "metadata": {
    "id": "oN0GABo0WwTZ"
   },
   "source": [
    "-------------------------------------------------------------------------------------------------"
   ]
  },
  {
   "cell_type": "markdown",
   "id": "d66d2afa-bd0b-4b96-809f-a385f7c3546c",
   "metadata": {},
   "source": [
    "Preprocess Steps done already in ArcGIS software:\n",
    "\n",
    "Converting the coordinate system of population density rasters from WGS to Canadian Spatial Reference System.\n",
    "\n",
    "Clipping the above rasters based on the case study area and land cover rasters.\n",
    "\n",
    "Equalizing the pixel size of the rasters with each other and resampling them to 30 meter pixels."
   ]
  },
  {
   "cell_type": "markdown",
   "id": "94e83af3-0303-460f-8923-d1b6910c980d",
   "metadata": {},
   "source": [
    "Using a linear interpolation using meshgrid, so as to create an approximation using 5 existing rasters for the years 2000 to 2020 and save the approximate rasters. With this, all the spatial requirements for the dataset of this project are provided."
   ]
  },
  {
   "cell_type": "code",
   "execution_count": null,
   "id": "b523aa95-44c3-4fab-b829-1397a3dfe8ec",
   "metadata": {},
   "outputs": [],
   "source": [
    "Image.MAX_IMAGE_PIXELS = None\n",
    "output = \"D:\\Project\\PopDen\"\n",
    "\n",
    "image_2000 = Image.open(\"D:\\Project\\PopulationDensity\\p2000.tif\")\n",
    "image_2005 = Image.open(\"D:\\Project\\PopulationDensity\\p2005.tif\")\n",
    "image_2010 = Image.open(\"D:\\Project\\PopulationDensity\\p2010.tif\")\n",
    "image_2015 = Image.open(\"D:\\Project\\PopulationDensity\\p2015.tif\")\n",
    "image_2020 = Image.open(\"D:\\Project\\PopulationDensity\\p2020.tif\")\n",
    "\n",
    "arr = np.r_['0,3', image_2000, image_2005, image_2010, image_2015, image_2020]\n",
    "slices, rows, cols = arr.shape\n",
    "\n",
    "#Create meshgrid\n",
    "[X, Y, Z] = np.meshgrid(np.arange(cols), np.arange(rows), np.arange(slices))\n",
    "\n",
    "if not os.path.exists(output):\n",
    "    os.makedirs(output)\n",
    "\n",
    "for year in range(2001, 2020):\n",
    "    \n",
    "    #Determination of weights\n",
    "    [X2, Y2, Z2] = np.meshgrid(np.arange(cols), np.arange(rows), [(year - 2000) / 20 * 4])\n",
    "    Vi = interpn((X, Y, Z), arr, np.array([X2, Y2, Z2]).T)\n",
    "\n",
    "    plt.imshow(Vi[0], cmap=plt.cm.gray)\n",
    "    plt.savefig(os.path.join(output, f\"p{year}.tif\"))\n",
    "    "
   ]
  },
  {
   "cell_type": "markdown",
   "id": "07653ec6-33f1-49a4-abd5-31fcc744fc70",
   "metadata": {
    "id": "aciiJUNgE5Sh"
   },
   "source": [
    "Creating the required folders for data storage for the years 2000 to 2020.*"
   ]
  },
  {
   "cell_type": "code",
   "execution_count": 3,
   "id": "5f96d3a5-49cd-4d50-ad17-da4a95e30573",
   "metadata": {},
   "outputs": [],
   "source": [
    "path = \"D:\\Project\\Data\\Train\"\n",
    "\n",
    "for i in range(2001, 2020):\n",
    "    folder_name = \"y\" + str(i)\n",
    "    new_path = os.path.join(path, folder_name)\n",
    "    os.makedirs(new_path)\n",
    "\n",
    "    try:\n",
    "        os.makedirs(new_path)\n",
    "\n",
    "    except FileExistsError:\n",
    "        pass\n"
   ]
  },
  {
   "cell_type": "markdown",
   "id": "8ca53003",
   "metadata": {
    "id": "aciiJUNgE5Sh"
   },
   "source": [
    "To extract the patch from the raster images of each year. Since the dimensions of the images are large, we convert each raster into a number of smaller 64 x 64 non-overlapping rasters.\n",
    "\n",
    "In order to prepare the data, negative or nan values will be deleted from our data and finally patches will be saved as two-dimensional arrays in the folder corresponding to each year. Also the data of 2019 is gonna be used as a test of our prediction model, so its arrays are stored  in a separate path.\n",
    "\n",
    "Then, the land cover data will be encoded and converted into 11 bands so that the modeld learns it properly. Then we have to save all the arrays in Float32 format so that the required storage space is not too much."
   ]
  },
  {
   "cell_type": "code",
   "execution_count": null,
   "id": "9f0b8c9c-077c-4537-af29-3d99c2a6a275",
   "metadata": {},
   "outputs": [],
   "source": [
    "input_pop_dir = \"D:\\\\Project\\\\Data\\\\PopDen\"\n",
    "input_lc_dir = \"D:\\\\Project\\\\Data\\\\LandCover\"\n",
    "output_dir = \"D:\\\\Project\\\\Data\\\\Train\"\n",
    "\n",
    "# Patch size and step for sliding window\n",
    "patch_size = (64, 64) \n",
    "patch_step = 64\n",
    "c = 2001\n",
    "\n",
    "# Loop through each year from 2001 to 2019\n",
    "for year in range(2001, 2020):\n",
    "\n",
    "    # Construct file paths for population density and land cover data\n",
    "    input_pop_file = os.path.join(input_pop_dir, f\"p{year}.tif\") \n",
    "    input_lc_file = os.path.join(input_lc_dir, f\"LC{year}.tif\") \n",
    "    output_subdir = os.path.join(output_dir, f\"y{year}\") \n",
    "    \n",
    "    # Create output directory if it doesn't exist\n",
    "    if not os.path.exists(output_subdir):\n",
    "        os.makedirs(output_subdir)\n",
    "    \n",
    "    # Open raster files\n",
    "    rasterPop_image = gdal.Open(input_pop_file)\n",
    "    rasterLC_image = gdal.Open(input_lc_file)\n",
    "    \n",
    "    # Read raster data as arrays\n",
    "    rasterPop_array = rasterPop_image.ReadAsArray()\n",
    "    rasterLC_array = rasterLC_image.ReadAsArray()\n",
    "\n",
    "    # Handle no-data values in population density array\n",
    "    rasterPop_array[rasterPop_array < 0] = np.nan\n",
    "    col_mean_Pop = np.nanmean(rasterPop_array, axis=0)\n",
    "    index_Pop = np.where(np.isnan(rasterPop_array))\n",
    "    rasterPop_array[index_Pop] = np.take(col_mean_Pop, index_Pop[1])\n",
    "    \n",
    "    # Extract patches using sliding window\n",
    "    pop_patches = view_as_windows(rasterPop_array, patch_size, step=patch_step) \n",
    "    lc_patches = view_as_windows(rasterLC_array, patch_size, step=patch_step) \n",
    "    \n",
    "    num_x = pop_patches.shape[0]\n",
    "    num_y = pop_patches.shape[1] \n",
    "    val = list(np.unique(rasterLC_array))\n",
    "    \n",
    "    # Loop through each patch\n",
    "    for i in range(num_x):\n",
    "        for j in range(num_y):\n",
    "            \n",
    "            # Construct output file path\n",
    "            output_file = os.path.join(output_subdir, f\"arr{year}_{i}_{j}.npz\") \n",
    "            pop_patch = pop_patches[i, j] \n",
    "            lc_patch = lc_patches[i, j] \n",
    "\n",
    "            # One-hot encode land cover data\n",
    "            x, y = lc_patch.shape\n",
    "            lc = np.zeros((x, y, 11), dtype=np.float32)\n",
    "\n",
    "            for k in range(11):\n",
    "                if np.sum(lc_patch == val[k]) > 0:\n",
    "                    X, Y = np.where(lc_patch == val[k])\n",
    "                    lc[X, Y, k] = 1\n",
    "\n",
    "            # Save patches as compressed .npz files\n",
    "            pop_patch = pop_patch.astype(np.float32)\n",
    "            lc = lc.astype(np.float32)\n",
    "            arr = np.concatenate((lc, pop_patch[..., np.newaxis]), axis=2)\n",
    "            arr = arr.astype(np.float32)\n",
    "            np.savez_compressed(output_file, arr=arr)\n",
    "\n",
    "    print(f\"Processed y{c}\")\n",
    "    c += 1\n",
    "            "
   ]
  },
  {
   "cell_type": "markdown",
   "id": "5ca1faee-f80d-41b7-aea8-c6d80ba20f7a",
   "metadata": {
    "id": "aciiJUNgE5Sh"
   },
   "source": [
    "Creating data in time series format according to CNN-GRU module selected for this project."
   ]
  },
  {
   "cell_type": "code",
   "execution_count": null,
   "id": "f349966e-45df-47b1-bf31-95d1899d9e74",
   "metadata": {
    "scrolled": true
   },
   "outputs": [],
   "source": [
    "# Parameters for the data dimensions and time steps\n",
    "num_patches = 2500\n",
    "time_step, width, height, channel = 4, 64, 64, 12\n",
    "num_years = 19\n",
    "u = 0\n",
    "co = 1\n",
    "\n",
    "# Loop through each patch grid (50x50)\n",
    "for i in range(50):\n",
    "    for j in range(50):\n",
    "        c = 1\n",
    "        \n",
    "        # Loop through each year minus the time step\n",
    "        for k in range(num_years - time_step):\n",
    "            # Load the first array for the current year\n",
    "            first_array = np.load(os.path.join(\"D:\\\\Project\\\\Data\\\\Train\", f\"y{2001+k}\", f\"arr{2001+k}_{i}_{j}.npz\"))['arr']\n",
    "            assert first_array.shape == (width, height, channel)\n",
    "            next_arrays = []\n",
    "            \n",
    "            # Load subsequent arrays for the time steps\n",
    "            for z in range(1, time_step + 1):\n",
    "                a = np.load(os.path.join(\"D:\\\\Project\\\\Data\\\\Train\", f\"y{2001+k+z}\", f\"arr{2001+k+z}_{i}_{j}.npz\"))['arr']\n",
    "                next_arrays.append(a)\n",
    "            \n",
    "            # Ensure all arrays have the correct shape\n",
    "            for array in next_arrays:\n",
    "                assert array.shape == (width, height, channel)\n",
    "        \n",
    "            # Stack the arrays to create the input data\n",
    "            input = np.stack([first_array] + next_arrays[:-1], axis=0)\n",
    "            input = input.astype(np.float32)\n",
    "            np.savez_compressed(os.path.join(\"D:\\\\Project\\\\Data\\\\Train\\\\Feature\", f\"input_{u}.npz\"), input=input)\n",
    "            \n",
    "            # Prepare the label data by removing the last channel\n",
    "            label_train = np.delete(next_arrays[-1], -1, axis=2)\n",
    "            label_train = label_train.astype(np.float32)\n",
    "            np.savez_compressed(os.path.join(\"DD:\\\\Project\\\\Data\\\\Train\\\\Label\", f\"label_{u}.npz\"), label=label_train)\n",
    "            \n",
    "            # Print progress\n",
    "            print(f\"Processed sample {c} of patch {co} out of {num_patches}\")\n",
    "            c += 1\n",
    "            u += 1\n",
    "            \n",
    "        co += 1\n"
   ]
  },
  {
   "cell_type": "markdown",
   "id": "ea0b7516-aa58-4006-9237-b761aa754a33",
   "metadata": {},
   "source": [
    "Separating the last 2500 arrays related to the year 2019 from the data and saving them in another folder."
   ]
  },
  {
   "cell_type": "code",
   "execution_count": 51,
   "id": "807ce164-ac03-457c-b018-872fa36c224a",
   "metadata": {},
   "outputs": [],
   "source": [
    "test_path = \"D:\\\\Project\\\\Data\\\\Test\"\n",
    "\n",
    "for folder in [\"Features\", \"label\"]:\n",
    "    folder_path = os.path.join(test_path, folder)\n",
    "\n",
    "    for file in os.listdir(folder_path):\n",
    "        \n",
    "        file_number = int(file.split(\"_\")[1].split(\".\")[0])\n",
    "        new_name = f\"{folder}_{file_number - 35000}.npz\"\n",
    "        os.rename(os.path.join(folder_path, file), os.path.join(folder_path, new_name))\n",
    "        "
   ]
  },
  {
   "cell_type": "markdown",
   "id": "4ce9d8c7-0a2f-4a51-bf8d-3a007ac411d3",
   "metadata": {},
   "source": [
    "Defining the directory path for training/test data and list files in that directory."
   ]
  },
  {
   "cell_type": "code",
   "execution_count": 20,
   "id": "ec7c23cb-8043-40e5-ae0a-c69bb6351868",
   "metadata": {},
   "outputs": [],
   "source": [
    "input_loc_train = \"D:\\Project\\Train\\Features\"\n",
    "input_files_train = os.listdir(input_loc_train)\n",
    "\n",
    "label_loc_train = \"D:\\Project\\Train\\Label\"\n",
    "label_files_train = os.listdir(label_loc_train)\n",
    "\n",
    "input_loc_test = \"D:\\Test\\Features\"\n",
    "input_files_test = os.listdir(input_loc_test)\n",
    "\n",
    "label_loc_test = \"D:\\Project\\Test\\Label\"\n",
    "label_files_test = os.listdir(label_loc_test)\n",
    "\n",
    "# Create a dictionary to map input file names to corresponding label file names for training/test data\n",
    "image_label_map = {\"input_{}.npz\".format(i): \"label_{}.npz\".format(i)\n",
    "                    for i in range(len(input_files_train))}\n",
    "\n",
    "image_label_map_val = {\"input_{}.npz\".format(i): \"label_{}.npz\".format(i)\n",
    "                       for i in range(len(input_files_test))}\n"
   ]
  },
  {
   "cell_type": "markdown",
   "id": "b9890aec-d3d6-427a-a591-da1a8200e080",
   "metadata": {},
   "source": [
    "Creating two Data Generator classes to avoid memory errors. "
   ]
  },
  {
   "cell_type": "code",
   "execution_count": 36,
   "id": "c2c61c09-c34c-4224-86c4-2cc571fd2b53",
   "metadata": {},
   "outputs": [],
   "source": [
    "time_step, width, height, channel = 4, 64, 64, 12\n",
    "\n",
    "# Define a custom data generator class for training/test data\n",
    "class DataGenerator(tf.keras.utils.Sequence):\n",
    "    def __init__(self, list_examples, batch_size = 4, dim = (time_step, width, height, channel), shuffle = True):\n",
    "        # Constructor of the data generator.\n",
    "        self.dim = dim\n",
    "        self.batch_size = batch_size\n",
    "        self.list_examples = list_examples\n",
    "        self.shuffle = shuffle\n",
    "        self.on_epoch_end()\n",
    "\n",
    "    def __len__(self):\n",
    "        # Denotes the number of batches per epoch\n",
    "        return int(np.floor(len(self.list_examples) / self.batch_size))\n",
    "\n",
    "    def __getitem__(self, index):\n",
    "        # Generate one batch of data\n",
    "        indexes = self.indexes[index * self.batch_size:(index + 1) * self.batch_size]\n",
    "\n",
    "        # Find list of IDs\n",
    "        list_IDs_temp = [self.list_examples[k] for k in indexes]\n",
    "\n",
    "        # Generate data\n",
    "        X, y = self.__data_generation(list_IDs_temp)\n",
    "\n",
    "        return X, y\n",
    "\n",
    "    def on_epoch_end(self):\n",
    "        # This function is called at the end of each epoch.\n",
    "        self.indexes = np.arange(len(self.list_examples))\n",
    "        if self.shuffle == True:\n",
    "            np.random.shuffle(self.indexes)\n",
    "\n",
    "    def __data_generation(self, list_IDs_temp):\n",
    "        # Load individual numpy arrays and aggregate them into a batch.\n",
    "\n",
    "        X = np.empty([self.batch_size, self.dim[0], self.dim[1], self.dim[2], self.dim[3]], dtype = np.float32)\n",
    "\n",
    "        # y is a one-hot encoded vector.\n",
    "        y = np.empty([self.batch_size, width, height, 11], dtype = np.float32)\n",
    "\n",
    "        # Generate data.\n",
    "\n",
    "        c = 0\n",
    "        for i in list_IDs_temp:\n",
    "\n",
    "            x_file_path = os.path.join(input_loc_train, i)\n",
    "            y_file_path = os.path.join(label_loc_train, image_label_map.get(i))\n",
    "\n",
    "            # Load sample\n",
    "            X[c, :, :, :, :] = np.load(x_file_path)['input']\n",
    "            \n",
    "            # Load labels    \n",
    "            y[c, :, :, :] = np.load(y_file_path)['label']\n",
    "            \n",
    "\n",
    "            c += 1\n",
    "\n",
    "        return X, y\n"
   ]
  },
  {
   "cell_type": "code",
   "execution_count": null,
   "id": "dc9ba14b-538a-469d-a3a9-cdd742e14c45",
   "metadata": {},
   "outputs": [],
   "source": [
    "class ValDataGenerator(tf.keras.utils.Sequence):\n",
    "    def __init__(self, list_examples, batch_size = 4, dim = (time_step, width, height, channel), shuffle = True):\n",
    "        # Constructor of the data generator.\n",
    "        self.dim = dim\n",
    "        self.batch_size = batch_size\n",
    "        self.list_examples = list_examples\n",
    "        self.shuffle = shuffle\n",
    "        self.on_epoch_end()\n",
    "\n",
    "    def __len__(self):\n",
    "        # Denotes the number of batches per epoch\n",
    "        return int(np.floor(len(self.list_examples) / self.batch_size))\n",
    "\n",
    "    def __getitem__(self, index):\n",
    "        # Generate one batch of data\n",
    "        indexes = self.indexes[index * self.batch_size:(index + 1) * self.batch_size]\n",
    "\n",
    "        # Find list of IDs\n",
    "        list_IDs_temp = [self.list_examples[k] for k in indexes]\n",
    "\n",
    "        # Generate data\n",
    "        X, y = self.__data_generation(list_IDs_temp)\n",
    "\n",
    "        return X, y\n",
    "\n",
    "    def on_epoch_end(self):\n",
    "        # This function is called at the end of each epoch.\n",
    "        self.indexes = np.arange(len(self.list_examples))\n",
    "        if self.shuffle == True:\n",
    "            np.random.shuffle(self.indexes)\n",
    "\n",
    "    def __data_generation(self, list_IDs_temp):\n",
    "        # Load individual numpy arrays and aggregate them into a batch.\n",
    "\n",
    "        X = np.empty([self.batch_size, self.dim[0], self.dim[1], self.dim[2], self.dim[3]], dtype = np.float32)\n",
    "\n",
    "        # y is a one-hot encoded vector.\n",
    "        y = np.empty([self.batch_size, width, height, 11], dtype = np.float32)\n",
    "\n",
    "        # Generate data.\n",
    "\n",
    "        c = 0\n",
    "        for i in list_IDs_temp:\n",
    "\n",
    "            x_file_path = os.path.join(input_loc_test, i)\n",
    "            y_file_path = os.path.join(label_loc_test, image_label_map_val.get(i))\n",
    "\n",
    "            # Load sample\n",
    "            X[c, :, :, :, :] = np.load(x_file_path)['input_train']\n",
    "            # Load labels     \n",
    "            y[c, :, :, :] = np.load(y_file_path)['label_train']\n",
    "\n",
    "            c += 1\n",
    "\n",
    "        return X, y\n"
   ]
  },
  {
   "cell_type": "code",
   "execution_count": 37,
   "id": "2d0c37c0-4a20-4feb-bf0f-e63496950e1f",
   "metadata": {},
   "outputs": [],
   "source": [
    "# Create instances of the custom data generators for training and validation data\n",
    "training_generator = DataGenerator(input_files_train)\n",
    "validation_generator = ValDataGenerator(input_files_test)"
   ]
  },
  {
   "cell_type": "markdown",
   "id": "cd14e48b-3196-451f-b433-0610f5709adf",
   "metadata": {},
   "source": [
    "Since the data used in this project is a time series, time distributed convolutional layers are used so that the model has the ability to understand time and the extracted features are also in terms of time. We also added a regularization kernel to adding penalty factors to the network layers to alter the weight propagation through the layers which facilitate the model to converge optimally. In addition, max pooling and CNN layers with different dilation_rate are used to extract features with different and better dimensions and to reduce the amount of data.\n",
    "\n",
    "After CNN layers and their normalization by Batch Normalization are done, it is time for the GRU layers to form the hybrid architecture we need. These layers, like RNN layers, can model the time step. Finally, by adding a few Dense and dropout layers to avoid overfitting the model, the computational part of the model is completed and  output layer with 11 neurons to recognize the 11 classes in the land cover rasters in binary form are added."
   ]
  },
  {
   "cell_type": "code",
   "execution_count": 23,
   "id": "cd4e9021-bf97-445f-97f3-33aebc616537",
   "metadata": {},
   "outputs": [],
   "source": [
    "regularizer=keras.regularizers.l2(1e-2)\n",
    "ALPHA = 0.8\n",
    "BETA = 0.2"
   ]
  },
  {
   "cell_type": "code",
   "execution_count": 24,
   "id": "352b5802-edad-4f93-93e1-23b94a033914",
   "metadata": {},
   "outputs": [],
   "source": [
    "def CNN_GRU_Model(input_shape):\n",
    "    \"\"\"\n",
    "    Creates a CNN-GRU model for spatiotemporal data processing.\n",
    "\n",
    "    Parameters:\n",
    "    input_shape (tuple): Shape of the input data (time_steps, width, height, channels).\n",
    "\n",
    "    Returns:\n",
    "    model (tf.keras.Model): Compiled CNN-GRU model.\n",
    "    \"\"\"\n",
    "    \n",
    "    # Define the input layer with the given shape\n",
    "    inputs = tf.keras.Input(shape=input_shape) \n",
    "    \n",
    "    # First convolutional block with TimeDistributed layers\n",
    "    x = TimeDistributed(Conv2D(64, (3,3), activation='relu', kernel_regularizer=regularizer))(inputs) \n",
    "    x = TimeDistributed(MaxPooling2D(pool_size=(2, 2)))(x) \n",
    "    \n",
    "    # Second convolutional block\n",
    "    x = TimeDistributed(Conv2D(128, (3,3), activation='relu', kernel_regularizer=regularizer))(x)\n",
    "    x = TimeDistributed(MaxPooling2D(pool_size=(2, 2)))(x) \n",
    "\n",
    "    # Atrous (dilated) convolutions for multi-scale context aggregation\n",
    "    x2 = TimeDistributed(Conv2D(64, (3,3), dilation_rate=3, activation='relu', padding='same', kernel_regularizer=regularizer))(x)\n",
    "    x3 = TimeDistributed(Conv2D(64, (3,3), dilation_rate=6, activation='relu', padding='same', kernel_regularizer=regularizer))(x)    \n",
    "    x4 = TimeDistributed(Conv2D(64, (3,3), dilation_rate=12, activation='relu', padding='same', kernel_regularizer=regularizer))(x)\n",
    "    x5 = TimeDistributed(Conv2D(64, (3,3), dilation_rate=18, activation='relu', padding='same', kernel_regularizer=regularizer))(x)\n",
    "    x6 = TimeDistributed(Conv2D(64, (3,3), dilation_rate=24, activation='relu', padding='same', kernel_regularizer=regularizer))(x)  \n",
    "    \n",
    "    # Concatenate the outputs of the atrous convolutions\n",
    "    x6 = concatenate([x6, x5, x2, x3, x4])\n",
    "    \n",
    "    # Additional convolutional layers\n",
    "    x7 = TimeDistributed(Conv2D(32, (1,1), padding='same', kernel_regularizer=regularizer))(x6) \n",
    "    x = TimeDistributed(MaxPooling2D(pool_size=(2, 2)))(x7)\n",
    "    x = TimeDistributed(Conv2D(32, (3,3), activation='relu', kernel_regularizer=regularizer))(x) \n",
    "    x = TimeDistributed(Conv2D(32, (3,3), activation='relu', kernel_regularizer=regularizer))(x) \n",
    "    x = TimeDistributed(BatchNormalization())(x) \n",
    "    x = TimeDistributed(Flatten())(x) \n",
    "    \n",
    "    # GRU layers for temporal processing\n",
    "    x = GRU(64, return_sequences=True)(x) \n",
    "    x = GRU(64)(x) \n",
    "\n",
    "    # Fully connected layers with Dropout\n",
    "    x = Dense(128, activation='relu', kernel_regularizer=regularizer)(x)\n",
    "    x = Dropout(rate=0.3)(x)\n",
    "    x = Dense(64, activation='relu', kernel_regularizer=regularizer)(x) \n",
    "    x = Dropout(rate=0.3)(x)\n",
    "    \n",
    "    # Output layer with sigmoid activation and reshaping to the desired output shape\n",
    "    outputs = Dense(64*64*11, activation='sigmoid')(x) \n",
    "    outputs = Reshape((64, 64, 11))(outputs) \n",
    "\n",
    "    # Create the model\n",
    "    model = tf.keras.Model(inputs=inputs, outputs=outputs)\n",
    "\n",
    "    return model\n"
   ]
  },
  {
   "cell_type": "markdown",
   "id": "adda0117-b8c5-4cf9-952e-e33be2ca7b67",
   "metadata": {},
   "source": [
    "Creating two functions to calculate the confusion matrix, TverskyLoss, jac_distance and F1 score to use them for loss functios and evaluate our model."
   ]
  },
  {
   "cell_type": "code",
   "execution_count": 25,
   "id": "51fde3aa-4700-4378-87dc-bb95ddc7431e",
   "metadata": {},
   "outputs": [],
   "source": [
    "def TverskyLoss(targets, inputs, alpha=ALPHA, beta=BETA, smooth=1e-6):\n",
    "    \"\"\"\n",
    "    Computes the Tversky loss for image segmentation tasks.\n",
    "\n",
    "    The Tversky loss is a generalization of the Dice coefficient, which allows for \n",
    "    asymmetric penalties for false positives and false negatives. This can be useful \n",
    "    in medical image segmentation where the cost of false positives and false negatives \n",
    "    may differ.\n",
    "\n",
    "    Parameters:\n",
    "    targets (tensor): Ground truth binary masks.\n",
    "    inputs (tensor): Predicted binary masks.\n",
    "    alpha (float): Weight of false positives.\n",
    "    beta (float): Weight of false negatives.\n",
    "    smooth (float): Smoothing factor to avoid division by zero.\n",
    "\n",
    "    Returns:\n",
    "    float: Tversky loss value.\n",
    "    \"\"\"\n",
    "    \n",
    "    # Flatten the input and target tensors\n",
    "    inputs = K.flatten(inputs)\n",
    "    targets = K.flatten(targets)\n",
    "    \n",
    "    # Calculate true positives, false positives, and false negatives\n",
    "    TP = K.sum((inputs * targets))\n",
    "    FP = K.sum(((1 - targets) * inputs))\n",
    "    FN = K.sum((targets * (1 - inputs)))\n",
    "    \n",
    "    # Compute the Tversky index\n",
    "    Tversky = (TP + smooth) / (TP + alpha * FP + beta * FN + smooth)\n",
    "\n",
    "    # Return the Tversky loss\n",
    "    return (1 - Tversky)\n",
    "    "
   ]
  },
  {
   "cell_type": "code",
   "execution_count": 26,
   "id": "e04662f4-9df3-46eb-9567-cef7181263e0",
   "metadata": {},
   "outputs": [],
   "source": [
    "def iou(y_true, y_pred, smooth=1):\n",
    "    \"\"\"\n",
    "    Computes the Intersection over Union (IoU) metric.\n",
    "\n",
    "    The IoU metric, also known as the Jaccard index, is used to evaluate the \n",
    "    similarity between two sets, typically used for image segmentation tasks.\n",
    "\n",
    "    Parameters:\n",
    "    y_true (tensor): Ground truth binary masks.\n",
    "    y_pred (tensor): Predicted binary masks.\n",
    "    smooth (float): Smoothing factor to avoid division by zero.\n",
    "\n",
    "    Returns:\n",
    "    float: IoU value.\n",
    "    \"\"\"\n",
    "    # Calculate the intersection and union of the true and predicted masks\n",
    "    intersection = K.sum(y_true * y_pred)\n",
    "    sum_ = K.sum(y_true + y_pred)\n",
    "    \n",
    "    # Compute the IoU\n",
    "    jac = (intersection + smooth) / (sum_ - intersection + smooth)\n",
    "    \n",
    "    return jac\n",
    "\n",
    "def jac_distance(y_true, y_pred):\n",
    "    \"\"\"\n",
    "    Computes the Jaccard distance, which is the complement of the IoU.\n",
    "\n",
    "    The Jaccard distance is used as a loss function for training segmentation models.\n",
    "\n",
    "    Parameters:\n",
    "    y_true (tensor): Ground truth binary masks.\n",
    "    y_pred (tensor): Predicted binary masks.\n",
    "\n",
    "    Returns:\n",
    "    float: Jaccard distance value.\n",
    "    \"\"\"\n",
    "    # Flatten the input tensors\n",
    "    y_truef = K.flatten(y_true)\n",
    "    y_predf = K.flatten(y_pred)\n",
    "    \n",
    "    # Return the negative IoU as the Jaccard distance\n",
    "    return -iou(y_true, y_pred)\n",
    "    "
   ]
  },
  {
   "cell_type": "code",
   "execution_count": 27,
   "id": "676dec3e-b149-4e82-afc9-546182a3bf55",
   "metadata": {},
   "outputs": [],
   "source": [
    "def confusion_matrix(label, predict):\n",
    "    \"\"\"\n",
    "    Computes the confusion matrix for binary classification tasks.\n",
    "\n",
    "    The confusion matrix is a table that is often used to describe the performance \n",
    "    of a classification model. It contains the counts of true positives, true negatives, \n",
    "    false positives, and false negatives.\n",
    "\n",
    "    Parameters:\n",
    "    label (tensor): Ground truth binary labels.\n",
    "    predict (tensor): Predicted binary labels.\n",
    "\n",
    "    Returns:\n",
    "    np.array: 2x2 confusion matrix.\n",
    "    \"\"\"\n",
    "    \n",
    "    # Reshape the labels and predictions to 1D tensors\n",
    "    label = tf.reshape(label, [-1])\n",
    "    predict = tf.reshape(predict, [-1])\n",
    "\n",
    "    # Cast the labels and predictions to boolean\n",
    "    label = tf.cast(label, tf.bool)\n",
    "    predict = tf.cast(predict, tf.bool)\n",
    "    \n",
    "    # Calculate true positives, true negatives, false positives, and false negatives\n",
    "    true_positive = tf.reduce_sum(tf.cast(tf.logical_and(label, predict), tf.int32))\n",
    "    true_negative = tf.reduce_sum(tf.cast(tf.logical_and(tf.logical_not(label), tf.logical_not(predict)), tf.int32))\n",
    "    false_positive = tf.reduce_sum(tf.cast(tf.logical_and(tf.logical_not(label), predict), tf.int32))\n",
    "    false_negative = tf.reduce_sum(tf.cast(tf.logical_and(label, tf.logical_not(predict)), tf.int32))\n",
    "    \n",
    "    # Return the confusion matrix as a numpy array\n",
    "    return np.array([[true_positive, false_positive], [false_negative, true_negative]])\n",
    "    "
   ]
  },
  {
   "cell_type": "code",
   "execution_count": 49,
   "id": "bcddab81-1137-4b92-ba67-be1c4d2dfbdc",
   "metadata": {},
   "outputs": [],
   "source": [
    "def F1_score(y_true, y_pred):\n",
    "    \"\"\"\n",
    "    Computes the F1 score for binary classification tasks.\n",
    "\n",
    "    The F1 score is the harmonic mean of precision and recall, providing a balance \n",
    "    between the two. It is especially useful for imbalanced datasets.\n",
    "\n",
    "    Parameters:\n",
    "    y_true (tensor): Ground truth binary labels.\n",
    "    y_pred (tensor): Predicted binary labels.\n",
    "\n",
    "    Returns:\n",
    "    float: F1 score value.\n",
    "    \"\"\"\n",
    "    \n",
    "    # Calculate precision and recall\n",
    "    precision = Precision()(y_true, y_pred)\n",
    "    recall = Recall()(y_true, y_pred)\n",
    "    \n",
    "    # Compute the F1 score\n",
    "    f1_score = 2 * (precision * recall) / (precision + recall + tf.keras.backend.epsilon())\n",
    "\n",
    "    return f1_score\n",
    "    "
   ]
  },
  {
   "cell_type": "markdown",
   "id": "35c90a32-a924-410b-8096-4c9dd4cb9203",
   "metadata": {},
   "source": [
    "Creating an instance of the custom neural network model with the specified input shape.Then compiling the model using the precision and recall criteria and the binary_crossentropy loss function.Also adding 2 callbacks to save the best model."
   ]
  },
  {
   "cell_type": "code",
   "execution_count": 29,
   "id": "aa793695-11cf-4ab3-ac5d-94405fc71e69",
   "metadata": {},
   "outputs": [
    {
     "name": "stdout",
     "output_type": "stream",
     "text": [
      "Model: \"model\"\n",
      "__________________________________________________________________________________________________\n",
      "Layer (type)                    Output Shape         Param #     Connected to                     \n",
      "==================================================================================================\n",
      "input_1 (InputLayer)            [(None, 4, 64, 64, 1 0                                            \n",
      "__________________________________________________________________________________________________\n",
      "time_distributed (TimeDistribut (None, 4, 62, 62, 12 13952       input_1[0][0]                    \n",
      "__________________________________________________________________________________________________\n",
      "time_distributed_1 (TimeDistrib (None, 4, 31, 31, 12 0           time_distributed[0][0]           \n",
      "__________________________________________________________________________________________________\n",
      "time_distributed_2 (TimeDistrib (None, 4, 29, 29, 25 295168      time_distributed_1[0][0]         \n",
      "__________________________________________________________________________________________________\n",
      "time_distributed_3 (TimeDistrib (None, 4, 14, 14, 25 0           time_distributed_2[0][0]         \n",
      "__________________________________________________________________________________________________\n",
      "time_distributed_8 (TimeDistrib (None, 4, 14, 14, 64 147520      time_distributed_3[0][0]         \n",
      "__________________________________________________________________________________________________\n",
      "time_distributed_7 (TimeDistrib (None, 4, 14, 14, 64 147520      time_distributed_3[0][0]         \n",
      "__________________________________________________________________________________________________\n",
      "time_distributed_4 (TimeDistrib (None, 4, 14, 14, 64 147520      time_distributed_3[0][0]         \n",
      "__________________________________________________________________________________________________\n",
      "time_distributed_5 (TimeDistrib (None, 4, 14, 14, 64 147520      time_distributed_3[0][0]         \n",
      "__________________________________________________________________________________________________\n",
      "time_distributed_6 (TimeDistrib (None, 4, 14, 14, 64 147520      time_distributed_3[0][0]         \n",
      "__________________________________________________________________________________________________\n",
      "concatenate (Concatenate)       (None, 4, 14, 14, 32 0           time_distributed_8[0][0]         \n",
      "                                                                 time_distributed_7[0][0]         \n",
      "                                                                 time_distributed_4[0][0]         \n",
      "                                                                 time_distributed_5[0][0]         \n",
      "                                                                 time_distributed_6[0][0]         \n",
      "__________________________________________________________________________________________________\n",
      "time_distributed_9 (TimeDistrib (None, 4, 14, 14, 32 10272       concatenate[0][0]                \n",
      "__________________________________________________________________________________________________\n",
      "time_distributed_10 (TimeDistri (None, 4, 7, 7, 32)  0           time_distributed_9[0][0]         \n",
      "__________________________________________________________________________________________________\n",
      "time_distributed_11 (TimeDistri (None, 4, 5, 5, 32)  9248        time_distributed_10[0][0]        \n",
      "__________________________________________________________________________________________________\n",
      "time_distributed_12 (TimeDistri (None, 4, 3, 3, 32)  9248        time_distributed_11[0][0]        \n",
      "__________________________________________________________________________________________________\n",
      "time_distributed_13 (TimeDistri (None, 4, 3, 3, 32)  128         time_distributed_12[0][0]        \n",
      "__________________________________________________________________________________________________\n",
      "time_distributed_14 (TimeDistri (None, 4, 288)       0           time_distributed_13[0][0]        \n",
      "__________________________________________________________________________________________________\n",
      "gru (GRU)                       (None, 4, 64)        67968       time_distributed_14[0][0]        \n",
      "__________________________________________________________________________________________________\n",
      "gru_1 (GRU)                     (None, 64)           24960       gru[0][0]                        \n",
      "__________________________________________________________________________________________________\n",
      "dense (Dense)                   (None, 128)          8320        gru_1[0][0]                      \n",
      "__________________________________________________________________________________________________\n",
      "dropout (Dropout)               (None, 128)          0           dense[0][0]                      \n",
      "__________________________________________________________________________________________________\n",
      "dense_1 (Dense)                 (None, 64)           8256        dropout[0][0]                    \n",
      "__________________________________________________________________________________________________\n",
      "dropout_1 (Dropout)             (None, 64)           0           dense_1[0][0]                    \n",
      "__________________________________________________________________________________________________\n",
      "dense_2 (Dense)                 (None, 32)           2080        dropout_1[0][0]                  \n",
      "__________________________________________________________________________________________________\n",
      "dense_3 (Dense)                 (None, 45056)        1486848     dense_2[0][0]                    \n",
      "__________________________________________________________________________________________________\n",
      "reshape (Reshape)               (None, 64, 64, 11)   0           dense_3[0][0]                    \n",
      "==================================================================================================\n",
      "Total params: 2,674,048\n",
      "Trainable params: 2,673,984\n",
      "Non-trainable params: 64\n",
      "__________________________________________________________________________________________________\n"
     ]
    }
   ],
   "source": [
    "# Define the model with the given input shape\n",
    "model = CNN_GRU_Model((time_step, width, height, channel))\n",
    "\n",
    "# Define the Hyperparameters\n",
    "optimizer = tf.keras.optimizers.Adam(learning_rate = 0.0005)\n",
    "model.compile(loss = TverskyLoss, optimizer = optimizer, metrics = [Recall(), Precision(), jac_distance])\n",
    "early_stopping = keras.callbacks.EarlyStopping(monitor = \"val_loss\", patience = 25)\n",
    "\n",
    "callbacks = [ModelCheckpoint(\"D:/Project/Best.h5\",\n",
    "                             verbose = 1, save_best_only = True), early_stopping]\n",
    "\n",
    "model.summary()"
   ]
  },
  {
   "cell_type": "markdown",
   "id": "4506763f-ef22-4dd1-bc95-03984e65b6e0",
   "metadata": {},
   "source": [
    "Fitthing the created model on our training data with 20 epochs and after finishing the training process of the model, we save the best one."
   ]
  },
  {
   "cell_type": "code",
   "execution_count": 156,
   "id": "52d15270-27c1-473e-9b72-3f91faf3e563",
   "metadata": {},
   "outputs": [
    {
     "name": "stdout",
     "output_type": "stream",
     "text": [
      "Epoch 1/20\n",
      "8750/8750 [==============================] - 829s 95ms/step - loss: 0.6221 - recall_6: 0.3886 - precision_6: 0.3758 - jac_distance: -0.2467 - val_loss: 0.5485 - val_recall_6: 0.4614 - val_precision_6: 0.4497 - val_jac_distance: -0.3059\n",
      "\n",
      "Epoch 00001: val_loss did not improve from 0.54849\n",
      "Epoch 2/20\n",
      "8750/8750 [==============================] - 810s 93ms/step - loss: 0.6221 - recall_6: 0.3886 - precision_6: 0.3758 - jac_distance: -0.2463 - val_loss: 0.5485 - val_recall_6: 0.4614 - val_precision_6: 0.4497 - val_jac_distance: -0.3052\n",
      "\n",
      "Epoch 00002: val_loss improved from 0.54849 to 0.54848, saving model to D:/Learning/GeoAi/Week8/Project\\BestModel.h5\n",
      "Epoch 3/20\n",
      "8750/8750 [==============================] - 797s 91ms/step - loss: 0.6221 - recall_6: 0.3886 - precision_6: 0.3758 - jac_distance: -0.2465 - val_loss: 0.5485 - val_recall_6: 0.4614 - val_precision_6: 0.4497 - val_jac_distance: -0.3071\n",
      "\n",
      "Epoch 00003: val_loss did not improve from 0.54848\n",
      "Epoch 4/20\n",
      "8750/8750 [==============================] - 825s 94ms/step - loss: 0.6222 - recall_6: 0.3886 - precision_6: 0.3758 - jac_distance: -0.2464 - val_loss: 0.5485 - val_recall_6: 0.4614 - val_precision_6: 0.4497 - val_jac_distance: -0.3052\n",
      "\n",
      "Epoch 00004: val_loss did not improve from 0.54848\n",
      "Epoch 5/20\n",
      "8750/8750 [==============================] - 835s 95ms/step - loss: 0.6221 - recall_6: 0.3886 - precision_6: 0.3758 - jac_distance: -0.2464 - val_loss: 0.5485 - val_recall_6: 0.4614 - val_precision_6: 0.4497 - val_jac_distance: -0.3064\n",
      "\n",
      "Epoch 00005: val_loss improved from 0.54848 to 0.54846, saving model to D:/Learning/GeoAi/Week8/Project\\BestModel.h5\n",
      "Epoch 6/20\n",
      "8750/8750 [==============================] - 833s 95ms/step - loss: 0.6222 - recall_6: 0.3886 - precision_6: 0.3758 - jac_distance: -0.2467 - val_loss: 0.5485 - val_recall_6: 0.4614 - val_precision_6: 0.4497 - val_jac_distance: -0.3060\n",
      "\n",
      "Epoch 00006: val_loss did not improve from 0.54846\n",
      "Epoch 7/20\n",
      "8750/8750 [==============================] - 831s 95ms/step - loss: 0.6221 - recall_6: 0.3886 - precision_6: 0.3758 - jac_distance: -0.2467 - val_loss: 0.5485 - val_recall_6: 0.4614 - val_precision_6: 0.4497 - val_jac_distance: -0.3052\n",
      "\n",
      "Epoch 00007: val_loss did not improve from 0.54846\n",
      "Epoch 8/20\n",
      "8750/8750 [==============================] - 830s 95ms/step - loss: 0.6222 - recall_6: 0.3886 - precision_6: 0.3758 - jac_distance: -0.2465 - val_loss: 0.5485 - val_recall_6: 0.4614 - val_precision_6: 0.4497 - val_jac_distance: -0.3062\n",
      "\n",
      "Epoch 00008: val_loss did not improve from 0.54846\n",
      "Epoch 9/20\n",
      "8750/8750 [==============================] - 830s 95ms/step - loss: 0.6221 - recall_6: 0.3886 - precision_6: 0.3758 - jac_distance: -0.2463 - val_loss: 0.5485 - val_recall_6: 0.4614 - val_precision_6: 0.4497 - val_jac_distance: -0.3058\n",
      "\n",
      "Epoch 00009: val_loss did not improve from 0.54846\n",
      "Epoch 10/20\n",
      "8750/8750 [==============================] - 822s 94ms/step - loss: 0.6222 - recall_6: 0.3886 - precision_6: 0.3758 - jac_distance: -0.2466 - val_loss: 0.5486 - val_recall_6: 0.4614 - val_precision_6: 0.4497 - val_jac_distance: -0.3061\n",
      "\n",
      "Epoch 00010: val_loss did not improve from 0.54846\n",
      "Epoch 11/20\n",
      "8750/8750 [==============================] - 830s 95ms/step - loss: 0.6221 - recall_6: 0.3886 - precision_6: 0.3758 - jac_distance: -0.2466 - val_loss: 0.5485 - val_recall_6: 0.4614 - val_precision_6: 0.4497 - val_jac_distance: -0.3058\n",
      "\n",
      "Epoch 00011: val_loss did not improve from 0.54846\n",
      "Epoch 12/20\n",
      "8750/8750 [==============================] - 832s 95ms/step - loss: 0.6221 - recall_6: 0.3886 - precision_6: 0.3758 - jac_distance: -0.2466 - val_loss: 0.5486 - val_recall_6: 0.4614 - val_precision_6: 0.4497 - val_jac_distance: -0.3055\n",
      "\n",
      "Epoch 00012: val_loss did not improve from 0.54846\n",
      "Epoch 13/20\n",
      "8750/8750 [==============================] - 831s 95ms/step - loss: 0.6221 - recall_6: 0.3886 - precision_6: 0.3758 - jac_distance: -0.2466 - val_loss: 0.5486 - val_recall_6: 0.4614 - val_precision_6: 0.4497 - val_jac_distance: -0.3059\n",
      "\n",
      "Epoch 00013: val_loss did not improve from 0.54846\n",
      "Epoch 14/20\n",
      "8750/8750 [==============================] - 831s 95ms/step - loss: 0.6221 - recall_6: 0.3886 - precision_6: 0.3758 - jac_distance: -0.2467 - val_loss: 0.5484 - val_recall_6: 0.4614 - val_precision_6: 0.4497 - val_jac_distance: -0.3068\n",
      "\n",
      "Epoch 00014: val_loss improved from 0.54846 to 0.54843, saving model to D:/Learning/GeoAi/Week8/Project\\BestModel.h5\n",
      "Epoch 15/20\n",
      "8750/8750 [==============================] - 830s 95ms/step - loss: 0.6222 - recall_6: 0.3886 - precision_6: 0.3758 - jac_distance: -0.2467 - val_loss: 0.5483 - val_recall_6: 0.4614 - val_precision_6: 0.4497 - val_jac_distance: -0.3059\n",
      "\n",
      "Epoch 00015: val_loss improved from 0.54843 to 0.54828, saving model to D:/Learning/GeoAi/Week8/Project\\BestModel.h5\n",
      "Epoch 16/20\n",
      "8750/8750 [==============================] - 831s 95ms/step - loss: 0.6221 - recall_6: 0.3886 - precision_6: 0.3758 - jac_distance: -0.2465 - val_loss: 0.5485 - val_recall_6: 0.4614 - val_precision_6: 0.4497 - val_jac_distance: -0.3060\n",
      "\n",
      "Epoch 00016: val_loss did not improve from 0.54828\n",
      "Epoch 17/20\n",
      "8750/8750 [==============================] - 831s 95ms/step - loss: 0.6221 - recall_6: 0.3886 - precision_6: 0.3758 - jac_distance: -0.2465 - val_loss: 0.5486 - val_recall_6: 0.4614 - val_precision_6: 0.4497 - val_jac_distance: -0.3063\n",
      "\n",
      "Epoch 00017: val_loss did not improve from 0.54828\n",
      "Epoch 18/20\n",
      "8750/8750 [==============================] - 829s 95ms/step - loss: 0.6222 - recall_6: 0.3886 - precision_6: 0.3758 - jac_distance: -0.2464 - val_loss: 0.5485 - val_recall_6: 0.4614 - val_precision_6: 0.4497 - val_jac_distance: -0.3052\n",
      "\n",
      "Epoch 00018: val_loss did not improve from 0.54828\n",
      "Epoch 19/20\n",
      "8750/8750 [==============================] - 827s 94ms/step - loss: 0.6221 - recall_6: 0.3886 - precision_6: 0.3758 - jac_distance: -0.2467 - val_loss: 0.5484 - val_recall_6: 0.4614 - val_precision_6: 0.4497 - val_jac_distance: -0.3061\n",
      "\n",
      "Epoch 00019: val_loss did not improve from 0.54828\n",
      "Epoch 20/20\n",
      "8750/8750 [==============================] - 827s 94ms/step - loss: 0.6221 - recall_6: 0.3886 - precision_6: 0.3758 - jac_distance: -0.2465 - val_loss: 0.5484 - val_recall_6: 0.4614 - val_precision_6: 0.4497 - val_jac_distance: -0.3064\n",
      "\n",
      "Epoch 00020: val_loss did not improve from 0.54828\n"
     ]
    }
   ],
   "source": [
    "history = model.fit(training_generator, epochs = 20, validation_data = validation_generator, callbacks = callbacks)"
   ]
  },
  {
   "cell_type": "markdown",
   "id": "79f0e4d0-2927-4a5f-aba2-c0e957e92036",
   "metadata": {},
   "source": [
    "Loading the best model to predict the test data and evaluate it based on the mentioned criteria."
   ]
  },
  {
   "cell_type": "code",
   "execution_count": 34,
   "id": "4ddfde96-db5a-4a52-ae2c-0e3354d78a8b",
   "metadata": {},
   "outputs": [],
   "source": [
    "MyModel = load_model(\"D:\\Project\\Best.h5\", custom_objects = {'TverskyLoss':TverskyLoss, 'jac_distance':jac_distance})"
   ]
  },
  {
   "cell_type": "code",
   "execution_count": 38,
   "id": "258d7bba-d257-4b60-bec4-9226c51d5067",
   "metadata": {},
   "outputs": [],
   "source": [
    "label_pred = MyModel.predict(validation_generator)"
   ]
  },
  {
   "cell_type": "code",
   "execution_count": 39,
   "id": "339b022c-dc80-4c1a-b6e6-7838cfad8e53",
   "metadata": {},
   "outputs": [
    {
     "name": "stdout",
     "output_type": "stream",
     "text": [
      "625/625 [==============================] - 11s 15ms/step - loss: 0.5485 - recall_6: 0.4614 - precision_6: 0.4497 - jac_distance: -0.3056\n"
     ]
    },
    {
     "data": {
      "text/plain": [
       "[0.5485276579856873,\n",
       " 0.4614284634590149,\n",
       " 0.44965338706970215,\n",
       " -0.3055548071861267]"
      ]
     },
     "execution_count": 39,
     "metadata": {},
     "output_type": "execute_result"
    }
   ],
   "source": [
    "MyModel.evaluate(validation_generator)"
   ]
  },
  {
   "cell_type": "markdown",
   "id": "32563565-9d52-41cb-9a0a-bc5927f06e91",
   "metadata": {},
   "source": [
    "Creating a threshold on the output data so that each element becomes 0 or 1."
   ]
  },
  {
   "cell_type": "code",
   "execution_count": 40,
   "id": "e2bbbd54-6f2c-4f2f-b7a3-b345085be786",
   "metadata": {},
   "outputs": [],
   "source": [
    "condition = label_pred > 0.5\n",
    "label_pred = np.where(condition, 1, 0)"
   ]
  },
  {
   "cell_type": "markdown",
   "id": "027edbc5-87e2-4c73-bb60-f96de3f5c29f",
   "metadata": {},
   "source": [
    "Creating a matrix to cover all the project data using the stored arrays."
   ]
  },
  {
   "cell_type": "code",
   "execution_count": 81,
   "id": "f6c1612f-69ee-45c7-96a7-e1fa9a17f595",
   "metadata": {},
   "outputs": [],
   "source": [
    "# Initialize lists to store input and label arrays\n",
    "input_list = []\n",
    "label_list = []\n",
    "\n",
    "# Get the number of files in the input directory\n",
    "num_files = len(os.listdir(\"D:\\\\Project\\\\Test\\\\Features\"))\n",
    "\n",
    "# Loop through each file index\n",
    "for i in range(num_files):\n",
    "   \n",
    "    input_file = \"D:\\\\Project\\\\Test\\\\Features\\\\feature\" + str(i) + '.npz'\n",
    "    label_file = \"D:\\\\Project\\\\Test\\\\Features\\\\Label\\\\label_\" + str(i) + '.npz'\n",
    "    \n",
    "    # Load the input and label arrays from the .npz files\n",
    "    input_array = np.load(input_file)['feature_train']\n",
    "    label_array = np.load(label_file)['label_train']\n",
    "    \n",
    "    # Append the arrays to the respective lists\n",
    "    input_list.append(input_array)\n",
    "    label_list.append(label_array)\n",
    "\n",
    "# Stack the lists into 5D and 4D arrays respectively\n",
    "input_5D = np.stack(input_list, axis=0)\n",
    "label_4D = np.stack(label_list, axis=0)"
   ]
  },
  {
   "cell_type": "markdown",
   "id": "6590b5f1-88bd-422e-b5ab-5c5ea5cfd321",
   "metadata": {},
   "source": [
    "Evaluationing through confusion matrix and F1 score."
   ]
  },
  {
   "cell_type": "code",
   "execution_count": 42,
   "id": "b6c0ffc5-9ceb-403e-8744-37d9bcdda160",
   "metadata": {},
   "outputs": [
    {
     "data": {
      "text/html": [
       "<div>\n",
       "<style scoped>\n",
       "    .dataframe tbody tr th:only-of-type {\n",
       "        vertical-align: middle;\n",
       "    }\n",
       "\n",
       "    .dataframe tbody tr th {\n",
       "        vertical-align: top;\n",
       "    }\n",
       "\n",
       "    .dataframe thead th {\n",
       "        text-align: right;\n",
       "    }\n",
       "</style>\n",
       "<table border=\"1\" class=\"dataframe\">\n",
       "  <thead>\n",
       "    <tr style=\"text-align: right;\">\n",
       "      <th></th>\n",
       "      <th>Positive</th>\n",
       "      <th>Negative</th>\n",
       "    </tr>\n",
       "  </thead>\n",
       "  <tbody>\n",
       "    <tr>\n",
       "      <th>True</th>\n",
       "      <td>4614568.0</td>\n",
       "      <td>5647932.0</td>\n",
       "    </tr>\n",
       "    <tr>\n",
       "      <th>False</th>\n",
       "      <td>5386046.0</td>\n",
       "      <td>96991454.0</td>\n",
       "    </tr>\n",
       "  </tbody>\n",
       "</table>\n",
       "</div>"
      ],
      "text/plain": [
       "        Positive    Negative\n",
       "True   4614568.0   5647932.0\n",
       "False  5386046.0  96991454.0"
      ]
     },
     "execution_count": 42,
     "metadata": {},
     "output_type": "execute_result"
    }
   ],
   "source": [
    "total_confusion_matrix = np.zeros((2, 2))\n",
    "\n",
    "for i in range(2500):\n",
    "    total_confusion_matrix += confusion_matrix(label_4D[i], label_pred[i])\n",
    "\n",
    "total_confusion_matrix = pd.DataFrame(total_confusion_matrix, index=['True', 'False'], columns=['Positive', 'Negative'])\n",
    "total_confusion_matrix"
   ]
  },
  {
   "cell_type": "code",
   "execution_count": 44,
   "id": "2f084d69-fa24-4011-85b7-c3037aae6056",
   "metadata": {},
   "outputs": [
    {
     "data": {
      "image/png": "[encoded data removed]",
      "text/plain": [
       "<Figure size 800x600 with 2 Axes>"
      ]
     },
     "metadata": {},
     "output_type": "display_data"
    }
   ],
   "source": [
    "# Plot the dataframe as a heatmap using seaborn\n",
    "plt.figure(figsize=(8, 6))\n",
    "sb.heatmap(total_confusion_matrix, annot=True, fmt='.0f', cmap=\"BuPu\")\n",
    "plt.title('Confusion Matrix')\n",
    "plt.xlabel('Predicted')\n",
    "plt.ylabel('Actual')\n",
    "plt.show()"
   ]
  },
  {
   "cell_type": "markdown",
   "id": "554afeee-95e4-4718-be49-afb13bda0e7e",
   "metadata": {
    "id": "zAwRP94YJsrb"
   },
   "source": [
    "-------------------------------------------------------------------------------------------------"
   ]
  },
  {
   "cell_type": "code",
   "execution_count": null,
   "id": "e89eec91-c5fb-44f7-a227-a2386c5fc819",
   "metadata": {},
   "outputs": [],
   "source": [
    "f1_scores = []\n",
    "\n",
    "for i in range(2500):\n",
    "    label = label_4D[i].flatten()\n",
    "    predict = label_pred[i].flatten()\n",
    "    f1 = f1_score(label, predict)\n",
    "    f1_scores.append(f1)\n",
    "    "
   ]
  },
  {
   "cell_type": "code",
   "execution_count": 62,
   "id": "276f562e-0786-4064-9700-183a07ebd24d",
   "metadata": {},
   "outputs": [
    {
     "name": "stdout",
     "output_type": "stream",
     "text": [
      "F1 Score :  0.4502526237820023\n"
     ]
    }
   ],
   "source": [
    "mean_f1_score = (sum(f1_scores)/len(f1_scores))\n",
    "print('F1 Score : ', mean_f1_score)"
   ]
  }
 ],
 "metadata": {
  "kernelspec": {
   "display_name": "gpu-env",
   "language": "python",
   "name": "gpu-env"
  },
  "language_info": {
   "codemirror_mode": {
    "name": "ipython",
    "version": 3
   },
   "file_extension": ".py",
   "mimetype": "text/x-python",
   "name": "python",
   "nbconvert_exporter": "python",
   "pygments_lexer": "ipython3",
   "version": "3.9.18"
  }
 },
 "nbformat": 4,
 "nbformat_minor": 5
}
